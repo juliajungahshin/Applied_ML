{
  "nbformat": 4,
  "nbformat_minor": 0,
  "metadata": {
    "kernelspec": {
      "display_name": "Python 3",
      "language": "python",
      "name": "python3"
    },
    "language_info": {
      "codemirror_mode": {
        "name": "ipython",
        "version": 3
      },
      "file_extension": ".py",
      "mimetype": "text/x-python",
      "name": "python",
      "nbconvert_exporter": "python",
      "pygments_lexer": "ipython3",
      "version": "3.7.3"
    },
    "colab": {
      "name": "AppliedML04a_PredictionWineQualityUsingNLP.ipynb",
      "provenance": []
    }
  },
  "cells": [
    {
      "cell_type": "markdown",
      "metadata": {
        "id": "v28w5dyPleui"
      },
      "source": [
        "### Applied Machine Learning 4a\n",
        "\n",
        "##### Date: April 22 2020\n",
        "##### Author: Jung Ah Shin \n",
        "##### Data source: https://www.kaggle.com/zynicide/wine-reviews\n",
        "\n",
        "\n",
        "*PREDICT WINE QUALITY FROM REVIEW TEXTS AND OTHER PROPERTIES OF WINE*\n",
        "\n",
        "### 1.  Bag of Words and Simple Features\n"
      ]
    },
    {
      "cell_type": "code",
      "metadata": {
        "id": "gBxIBzH_leuo"
      },
      "source": [
        "import pandas as pd\n",
        "import numpy as np\n",
        "import matplotlib.pyplot as plt\n",
        "import scipy\n",
        "\n",
        "import warnings\n",
        "warnings.filterwarnings('ignore')\n",
        "\n",
        "import missingno as msno\n",
        "\n",
        "from sklearn.model_selection import train_test_split, cross_val_score,GridSearchCV,RepeatedKFold\n",
        "from sklearn.model_selection import cross_validate\n",
        "\n",
        "from sklearn.compose import ColumnTransformer\n",
        "\n",
        "from sklearn.compose import make_column_transformer\n",
        "from sklearn.pipeline import make_pipeline, Pipeline\n",
        "from sklearn.impute import SimpleImputer\n",
        "\n",
        "from sklearn.preprocessing import OneHotEncoder\n",
        "from sklearn.preprocessing import StandardScaler\n",
        "\n",
        "from category_encoders import TargetEncoder, OrdinalEncoder\n",
        "\n",
        "from sklearn.feature_extraction.text import CountVectorizer\n",
        "\n",
        "from sklearn.linear_model import LinearRegression, Ridge, Lasso, ElasticNet"
      ],
      "execution_count": 1,
      "outputs": []
    },
    {
      "cell_type": "code",
      "metadata": {
        "colab": {
          "base_uri": "https://localhost:8080/",
          "height": 649
        },
        "id": "HmbkDSPHleup",
        "outputId": "33dcfa87-9bd0-40d4-b073-02fc2e1c8732"
      },
      "source": [
        "data = pd.read_csv('winemag-data-130k-v2.csv')\n",
        "data.drop('Unnamed: 0', inplace=True, axis=1)\n",
        "\n",
        "# To only use US wine data\n",
        "only_US = data['country'] == 'US'\n",
        "data = data[only_US]\n",
        "data #54504 rows × 14 columns\n",
        "data.head()"
      ],
      "execution_count": 2,
      "outputs": [
        {
          "output_type": "execute_result",
          "data": {
            "text/html": [
              "<div>\n",
              "<style scoped>\n",
              "    .dataframe tbody tr th:only-of-type {\n",
              "        vertical-align: middle;\n",
              "    }\n",
              "\n",
              "    .dataframe tbody tr th {\n",
              "        vertical-align: top;\n",
              "    }\n",
              "\n",
              "    .dataframe thead th {\n",
              "        text-align: right;\n",
              "    }\n",
              "</style>\n",
              "<table border=\"1\" class=\"dataframe\">\n",
              "  <thead>\n",
              "    <tr style=\"text-align: right;\">\n",
              "      <th></th>\n",
              "      <th>country</th>\n",
              "      <th>description</th>\n",
              "      <th>designation</th>\n",
              "      <th>points</th>\n",
              "      <th>price</th>\n",
              "      <th>province</th>\n",
              "      <th>region_1</th>\n",
              "      <th>region_2</th>\n",
              "      <th>taster_name</th>\n",
              "      <th>taster_twitter_handle</th>\n",
              "      <th>title</th>\n",
              "      <th>variety</th>\n",
              "      <th>winery</th>\n",
              "    </tr>\n",
              "  </thead>\n",
              "  <tbody>\n",
              "    <tr>\n",
              "      <th>2</th>\n",
              "      <td>US</td>\n",
              "      <td>Tart and snappy, the flavors of lime flesh and...</td>\n",
              "      <td>NaN</td>\n",
              "      <td>87</td>\n",
              "      <td>14.0</td>\n",
              "      <td>Oregon</td>\n",
              "      <td>Willamette Valley</td>\n",
              "      <td>Willamette Valley</td>\n",
              "      <td>Paul Gregutt</td>\n",
              "      <td>@paulgwine</td>\n",
              "      <td>Rainstorm 2013 Pinot Gris (Willamette Valley)</td>\n",
              "      <td>Pinot Gris</td>\n",
              "      <td>Rainstorm</td>\n",
              "    </tr>\n",
              "    <tr>\n",
              "      <th>3</th>\n",
              "      <td>US</td>\n",
              "      <td>Pineapple rind, lemon pith and orange blossom ...</td>\n",
              "      <td>Reserve Late Harvest</td>\n",
              "      <td>87</td>\n",
              "      <td>13.0</td>\n",
              "      <td>Michigan</td>\n",
              "      <td>Lake Michigan Shore</td>\n",
              "      <td>NaN</td>\n",
              "      <td>Alexander Peartree</td>\n",
              "      <td>NaN</td>\n",
              "      <td>St. Julian 2013 Reserve Late Harvest Riesling ...</td>\n",
              "      <td>Riesling</td>\n",
              "      <td>St. Julian</td>\n",
              "    </tr>\n",
              "    <tr>\n",
              "      <th>4</th>\n",
              "      <td>US</td>\n",
              "      <td>Much like the regular bottling from 2012, this...</td>\n",
              "      <td>Vintner's Reserve Wild Child Block</td>\n",
              "      <td>87</td>\n",
              "      <td>65.0</td>\n",
              "      <td>Oregon</td>\n",
              "      <td>Willamette Valley</td>\n",
              "      <td>Willamette Valley</td>\n",
              "      <td>Paul Gregutt</td>\n",
              "      <td>@paulgwine</td>\n",
              "      <td>Sweet Cheeks 2012 Vintner's Reserve Wild Child...</td>\n",
              "      <td>Pinot Noir</td>\n",
              "      <td>Sweet Cheeks</td>\n",
              "    </tr>\n",
              "    <tr>\n",
              "      <th>10</th>\n",
              "      <td>US</td>\n",
              "      <td>Soft, supple plum envelopes an oaky structure ...</td>\n",
              "      <td>Mountain Cuvée</td>\n",
              "      <td>87</td>\n",
              "      <td>19.0</td>\n",
              "      <td>California</td>\n",
              "      <td>Napa Valley</td>\n",
              "      <td>Napa</td>\n",
              "      <td>Virginie Boone</td>\n",
              "      <td>@vboone</td>\n",
              "      <td>Kirkland Signature 2011 Mountain Cuvée Caberne...</td>\n",
              "      <td>Cabernet Sauvignon</td>\n",
              "      <td>Kirkland Signature</td>\n",
              "    </tr>\n",
              "    <tr>\n",
              "      <th>12</th>\n",
              "      <td>US</td>\n",
              "      <td>Slightly reduced, this wine offers a chalky, t...</td>\n",
              "      <td>NaN</td>\n",
              "      <td>87</td>\n",
              "      <td>34.0</td>\n",
              "      <td>California</td>\n",
              "      <td>Alexander Valley</td>\n",
              "      <td>Sonoma</td>\n",
              "      <td>Virginie Boone</td>\n",
              "      <td>@vboone</td>\n",
              "      <td>Louis M. Martini 2012 Cabernet Sauvignon (Alex...</td>\n",
              "      <td>Cabernet Sauvignon</td>\n",
              "      <td>Louis M. Martini</td>\n",
              "    </tr>\n",
              "  </tbody>\n",
              "</table>\n",
              "</div>"
            ],
            "text/plain": [
              "   country  ...              winery\n",
              "2       US  ...           Rainstorm\n",
              "3       US  ...          St. Julian\n",
              "4       US  ...        Sweet Cheeks\n",
              "10      US  ...  Kirkland Signature\n",
              "12      US  ...    Louis M. Martini\n",
              "\n",
              "[5 rows x 13 columns]"
            ]
          },
          "metadata": {
            "tags": []
          },
          "execution_count": 2
        }
      ]
    },
    {
      "cell_type": "code",
      "metadata": {
        "colab": {
          "base_uri": "https://localhost:8080/",
          "height": 297
        },
        "id": "a7eGXsBhleuq",
        "outputId": "5d61d385-e749-4aa6-afd3-6432530fca97"
      },
      "source": [
        "# Remove outliers for price data???\n",
        "\n",
        "Q1 = data['price'].quantile(0.25)\n",
        "Q3 = data['price'].quantile(0.75)\n",
        "IQR = Q3 - Q1\n",
        "\n",
        "# Then, remove outlier prices \n",
        "remove_outlier = (data['price'] >= Q1 - 1.5 * IQR) & (data['price'] <= Q3 + 1.5 * IQR)\n",
        "data = data.loc[remove_outlier] \n",
        "data.describe()"
      ],
      "execution_count": 3,
      "outputs": [
        {
          "output_type": "execute_result",
          "data": {
            "text/html": [
              "<div>\n",
              "<style scoped>\n",
              "    .dataframe tbody tr th:only-of-type {\n",
              "        vertical-align: middle;\n",
              "    }\n",
              "\n",
              "    .dataframe tbody tr th {\n",
              "        vertical-align: top;\n",
              "    }\n",
              "\n",
              "    .dataframe thead th {\n",
              "        text-align: right;\n",
              "    }\n",
              "</style>\n",
              "<table border=\"1\" class=\"dataframe\">\n",
              "  <thead>\n",
              "    <tr style=\"text-align: right;\">\n",
              "      <th></th>\n",
              "      <th>points</th>\n",
              "      <th>price</th>\n",
              "    </tr>\n",
              "  </thead>\n",
              "  <tbody>\n",
              "    <tr>\n",
              "      <th>count</th>\n",
              "      <td>51958.000000</td>\n",
              "      <td>51958.000000</td>\n",
              "    </tr>\n",
              "    <tr>\n",
              "      <th>mean</th>\n",
              "      <td>88.408561</td>\n",
              "      <td>32.878613</td>\n",
              "    </tr>\n",
              "    <tr>\n",
              "      <th>std</th>\n",
              "      <td>3.038098</td>\n",
              "      <td>16.277523</td>\n",
              "    </tr>\n",
              "    <tr>\n",
              "      <th>min</th>\n",
              "      <td>80.000000</td>\n",
              "      <td>4.000000</td>\n",
              "    </tr>\n",
              "    <tr>\n",
              "      <th>25%</th>\n",
              "      <td>86.000000</td>\n",
              "      <td>20.000000</td>\n",
              "    </tr>\n",
              "    <tr>\n",
              "      <th>50%</th>\n",
              "      <td>88.000000</td>\n",
              "      <td>30.000000</td>\n",
              "    </tr>\n",
              "    <tr>\n",
              "      <th>75%</th>\n",
              "      <td>91.000000</td>\n",
              "      <td>42.000000</td>\n",
              "    </tr>\n",
              "    <tr>\n",
              "      <th>max</th>\n",
              "      <td>100.000000</td>\n",
              "      <td>82.000000</td>\n",
              "    </tr>\n",
              "  </tbody>\n",
              "</table>\n",
              "</div>"
            ],
            "text/plain": [
              "             points         price\n",
              "count  51958.000000  51958.000000\n",
              "mean      88.408561     32.878613\n",
              "std        3.038098     16.277523\n",
              "min       80.000000      4.000000\n",
              "25%       86.000000     20.000000\n",
              "50%       88.000000     30.000000\n",
              "75%       91.000000     42.000000\n",
              "max      100.000000     82.000000"
            ]
          },
          "metadata": {
            "tags": []
          },
          "execution_count": 3
        }
      ]
    },
    {
      "cell_type": "markdown",
      "metadata": {
        "id": "2XKcYShqleuq"
      },
      "source": [
        "##### Categorical vs. Continuous variables"
      ]
    },
    {
      "cell_type": "code",
      "metadata": {
        "colab": {
          "base_uri": "https://localhost:8080/"
        },
        "id": "dsyYpNLLleur",
        "outputId": "eeddc725-d040-4c02-859b-a31621cbd788"
      },
      "source": [
        "data.info()"
      ],
      "execution_count": 4,
      "outputs": [
        {
          "output_type": "stream",
          "text": [
            "<class 'pandas.core.frame.DataFrame'>\n",
            "Int64Index: 51958 entries, 2 to 129967\n",
            "Data columns (total 13 columns):\n",
            " #   Column                 Non-Null Count  Dtype  \n",
            "---  ------                 --------------  -----  \n",
            " 0   country                51958 non-null  object \n",
            " 1   description            51958 non-null  object \n",
            " 2   designation            34792 non-null  object \n",
            " 3   points                 51958 non-null  int64  \n",
            " 4   price                  51958 non-null  float64\n",
            " 5   province               51958 non-null  object \n",
            " 6   region_1               51682 non-null  object \n",
            " 7   region_2               48012 non-null  object \n",
            " 8   taster_name            36065 non-null  object \n",
            " 9   taster_twitter_handle  33099 non-null  object \n",
            " 10  title                  51958 non-null  object \n",
            " 11  variety                51958 non-null  object \n",
            " 12  winery                 51958 non-null  object \n",
            "dtypes: float64(1), int64(1), object(11)\n",
            "memory usage: 5.5+ MB\n"
          ],
          "name": "stdout"
        }
      ]
    },
    {
      "cell_type": "markdown",
      "metadata": {
        "id": "uuDYcPGrleur"
      },
      "source": [
        "##### Missing data analysis"
      ]
    },
    {
      "cell_type": "code",
      "metadata": {
        "colab": {
          "base_uri": "https://localhost:8080/"
        },
        "id": "V-T63f11leur",
        "outputId": "55ac1abb-5e52-4fae-97d0-96bc018b922f"
      },
      "source": [
        "# Number of nan data for each column\n",
        "data.isnull().sum()"
      ],
      "execution_count": 5,
      "outputs": [
        {
          "output_type": "execute_result",
          "data": {
            "text/plain": [
              "country                      0\n",
              "description                  0\n",
              "designation              17166\n",
              "points                       0\n",
              "price                        0\n",
              "province                     0\n",
              "region_1                   276\n",
              "region_2                  3946\n",
              "taster_name              15893\n",
              "taster_twitter_handle    18859\n",
              "title                        0\n",
              "variety                      0\n",
              "winery                       0\n",
              "dtype: int64"
            ]
          },
          "metadata": {
            "tags": []
          },
          "execution_count": 5
        }
      ]
    },
    {
      "cell_type": "code",
      "metadata": {
        "colab": {
          "base_uri": "https://localhost:8080/",
          "height": 329
        },
        "id": "NE88pv6fleus",
        "outputId": "615e6abb-46da-427b-fd51-621138c2d500"
      },
      "source": [
        "msno.matrix(data);"
      ],
      "execution_count": 6,
      "outputs": [
        {
          "output_type": "display_data",
          "data": {
            "image/png": "[encoded data removed]",
            "text/plain": [
              "<Figure size 1800x720 with 2 Axes>"
            ]
          },
          "metadata": {
            "tags": [],
            "needs_background": "light"
          }
        }
      ]
    },
    {
      "cell_type": "markdown",
      "metadata": {
        "id": "gfrjxi6pleus"
      },
      "source": [
        "##### Target variable analysis (points)"
      ]
    },
    {
      "cell_type": "code",
      "metadata": {
        "scrolled": false,
        "colab": {
          "base_uri": "https://localhost:8080/",
          "height": 350
        },
        "id": "IDjS2dC1leus",
        "outputId": "9a1a9f2f-5d99-4e4e-89a2-2882519b16da"
      },
      "source": [
        "# Target variable analysis (points)\n",
        "\n",
        "target = data.points.value_counts().to_dict()\n",
        "fig,ax = plt.subplots(1, figsize=(5,5))\n",
        "ax.bar(target.keys(), target.values())\n",
        "ax.set_ylabel('frequency')\n",
        "ax.set_xlabel('points')\n",
        "\n",
        "ax.title.set_text('Points')"
      ],
      "execution_count": 7,
      "outputs": [
        {
          "output_type": "display_data",
          "data": {
            "image/png": "[encoded data removed]",
            "text/plain": [
              "<Figure size 360x360 with 1 Axes>"
            ]
          },
          "metadata": {
            "tags": [],
            "needs_background": "light"
          }
        }
      ]
    },
    {
      "cell_type": "markdown",
      "metadata": {
        "id": "nk8PFU0aleut"
      },
      "source": [
        "The target variable `points` refers to points given by WineEnthusiasts on a scale of 1-100 (where only reviews are given for points that are greater than or equal to 80). There are only few observations for points in the early 80s and between 95-100. \n"
      ]
    },
    {
      "cell_type": "code",
      "metadata": {
        "id": "GfBYQYNVleut"
      },
      "source": [
        "#check num of unique values\n",
        "#redundant between taster_name & taster_twitter_handle\n",
        "\n",
        "categorical = ['designation', 'province', 'region_1', 'taster_name', \n",
        "                'variety', 'winery']\n",
        "continuous = ['price']\n",
        "\n",
        "\n",
        "data_1 = data[['title','description','designation', 'province', 'region_1','taster_name', \n",
        "                'variety', 'winery', 'price', 'points']]\n",
        "data_1\n",
        "\n",
        "# Drop NAs\n",
        "#df = data_1.dropna()\n",
        "df = data_1\n",
        "\n",
        "X = df.loc[:, ~df.columns.isin(['points'])]\n",
        "y = df['points']\n",
        "\n",
        "X_train, X_test, y_train, y_test = train_test_split(X, y, random_state=42)"
      ],
      "execution_count": 8,
      "outputs": []
    },
    {
      "cell_type": "code",
      "metadata": {
        "colab": {
          "base_uri": "https://localhost:8080/"
        },
        "id": "FYBdJbM-leut",
        "outputId": "86a6e2db-b2ed-4107-fd16-63327f5c1244"
      },
      "source": [
        "X_train.columns\n",
        "X_train.designation.nunique()\n",
        "for col in X_train.columns:\n",
        "    print(col, X_train[col].nunique())"
      ],
      "execution_count": 9,
      "outputs": [
        {
          "output_type": "stream",
          "text": [
            "title 36612\n",
            "description 36748\n",
            "designation 11225\n",
            "province 27\n",
            "region_1 253\n",
            "taster_name 15\n",
            "variety 236\n",
            "winery 4901\n",
            "price 79\n"
          ],
          "name": "stdout"
        }
      ]
    },
    {
      "cell_type": "markdown",
      "metadata": {
        "id": "jFJB3wjGleuu"
      },
      "source": [
        "#### 1.1 Create a baseline model for predicting wine quality using only non-text featurees"
      ]
    },
    {
      "cell_type": "markdown",
      "metadata": {
        "id": "9HPN4tyEleuu"
      },
      "source": [
        "`taster_twitter_handle` removed since it is highly likely that `taster_name` would entail the same information as they are both variables indicating who the taster/reviewer was. It is not likely that an individual reviewer would use multiple twitter handles.\n",
        "\n",
        "`region_2` and `region_1` are also removed. While \n",
        "`province`, `region_1`, and `region_2` seem to be hierarchical in a sense that `province` has the broadest information regarding the wine origins, whereas `region_1` and `region_2` provide a more specified information on where the wine was produced.\n",
        "\n",
        "\n",
        "`title` and `description` are removed since they are text features that need additional feature extraction to find the vintage in the case of `title`, and other preprocessing which will be done for text-based models. \n"
      ]
    },
    {
      "cell_type": "code",
      "metadata": {
        "colab": {
          "base_uri": "https://localhost:8080/",
          "height": 255
        },
        "id": "Odd_wMO0leuu",
        "outputId": "e5d2cd96-274d-416f-ac86-bf8eff3ef601"
      },
      "source": [
        "X_train_1 = X_train[['designation', 'province','taster_name', \n",
        "                'variety', 'winery', 'price']] \n",
        "\n",
        "X_test_1 = X_test[['designation', 'province','taster_name', \n",
        "                'variety', 'winery', 'price']] \n",
        "X_train_1.head()"
      ],
      "execution_count": 10,
      "outputs": [
        {
          "output_type": "execute_result",
          "data": {
            "text/html": [
              "<div>\n",
              "<style scoped>\n",
              "    .dataframe tbody tr th:only-of-type {\n",
              "        vertical-align: middle;\n",
              "    }\n",
              "\n",
              "    .dataframe tbody tr th {\n",
              "        vertical-align: top;\n",
              "    }\n",
              "\n",
              "    .dataframe thead th {\n",
              "        text-align: right;\n",
              "    }\n",
              "</style>\n",
              "<table border=\"1\" class=\"dataframe\">\n",
              "  <thead>\n",
              "    <tr style=\"text-align: right;\">\n",
              "      <th></th>\n",
              "      <th>designation</th>\n",
              "      <th>province</th>\n",
              "      <th>taster_name</th>\n",
              "      <th>variety</th>\n",
              "      <th>winery</th>\n",
              "      <th>price</th>\n",
              "    </tr>\n",
              "  </thead>\n",
              "  <tbody>\n",
              "    <tr>\n",
              "      <th>61776</th>\n",
              "      <td>NaN</td>\n",
              "      <td>California</td>\n",
              "      <td>NaN</td>\n",
              "      <td>Chardonnay</td>\n",
              "      <td>Hess Collection</td>\n",
              "      <td>22.0</td>\n",
              "    </tr>\n",
              "    <tr>\n",
              "      <th>89314</th>\n",
              "      <td>Doña Margarita Vineyard Chico's Run Unfiltered</td>\n",
              "      <td>California</td>\n",
              "      <td>Virginie Boone</td>\n",
              "      <td>Pinot Noir</td>\n",
              "      <td>Marimar Estate</td>\n",
              "      <td>55.0</td>\n",
              "    </tr>\n",
              "    <tr>\n",
              "      <th>80834</th>\n",
              "      <td>Two Brothers</td>\n",
              "      <td>California</td>\n",
              "      <td>Virginie Boone</td>\n",
              "      <td>Pinot Noir</td>\n",
              "      <td>Donelan</td>\n",
              "      <td>55.0</td>\n",
              "    </tr>\n",
              "    <tr>\n",
              "      <th>19723</th>\n",
              "      <td>Sangiacomo Vineyard</td>\n",
              "      <td>California</td>\n",
              "      <td>Virginie Boone</td>\n",
              "      <td>Chardonnay</td>\n",
              "      <td>MacRostie</td>\n",
              "      <td>46.0</td>\n",
              "    </tr>\n",
              "    <tr>\n",
              "      <th>11588</th>\n",
              "      <td>NaN</td>\n",
              "      <td>Virginia</td>\n",
              "      <td>NaN</td>\n",
              "      <td>Cabernet Franc</td>\n",
              "      <td>Miracle Valley</td>\n",
              "      <td>26.0</td>\n",
              "    </tr>\n",
              "  </tbody>\n",
              "</table>\n",
              "</div>"
            ],
            "text/plain": [
              "                                          designation  ... price\n",
              "61776                                             NaN  ...  22.0\n",
              "89314  Doña Margarita Vineyard Chico's Run Unfiltered  ...  55.0\n",
              "80834                                    Two Brothers  ...  55.0\n",
              "19723                             Sangiacomo Vineyard  ...  46.0\n",
              "11588                                             NaN  ...  26.0\n",
              "\n",
              "[5 rows x 6 columns]"
            ]
          },
          "metadata": {
            "tags": []
          },
          "execution_count": 10
        }
      ]
    },
    {
      "cell_type": "code",
      "metadata": {
        "colab": {
          "base_uri": "https://localhost:8080/"
        },
        "id": "-UWvq8jtleuv",
        "outputId": "1a483a70-e559-405b-a228-cdd4dbfba4b6"
      },
      "source": [
        "target_encode = ['designation','winery']\n",
        "onehot_encode = ['variety','province', 'taster_name']\n",
        "cont_encode = ['price']\n",
        "\n",
        "\n",
        "target_preprocessing = make_pipeline(\n",
        "    TargetEncoder()\n",
        "    )\n",
        "\n",
        "cat_preprocessing = make_pipeline(\n",
        "    SimpleImputer(strategy='constant', fill_value='NA'), \n",
        "    OneHotEncoder(handle_unknown='ignore')\n",
        "    )\n",
        "\n",
        "cont_preprocessing = make_pipeline(\n",
        "    SimpleImputer(),\n",
        "    StandardScaler())\n",
        "\n",
        "preprocess = make_column_transformer(\n",
        "    (target_preprocessing, target_encode),\n",
        "    (cat_preprocessing, onehot_encode),\n",
        "    (cont_preprocessing, cont_encode)\n",
        "    )\n",
        "\n",
        "# X_train_scaled = preprocess.fit_transform(X_train)\n",
        "# X_test_scaled = preprocess.transform(X_test) \n",
        "\n",
        "baseline_score = np.mean(cross_val_score(make_pipeline(preprocess, LinearRegression()), \n",
        "                              X_train_1, y_train, cv=5))\n",
        "\n",
        "print(\"BASELINE CV SCORE: \", \"{:.3f}\".format(baseline_score))\n"
      ],
      "execution_count": 11,
      "outputs": [
        {
          "output_type": "stream",
          "text": [
            "BASELINE CV SCORE:  0.441\n"
          ],
          "name": "stdout"
        }
      ]
    },
    {
      "cell_type": "markdown",
      "metadata": {
        "id": "pMjdzpJtleuv"
      },
      "source": [
        "#### 1.2 Create a simple text-based model using a bag-of-words approach and a linear model. "
      ]
    },
    {
      "cell_type": "code",
      "metadata": {
        "id": "r5eOIJ_Jleuv"
      },
      "source": [
        "X_train_2 = X_train[['description']] \n",
        "X_test_2 = X_test[['description']]\n",
        "\n",
        "X_train_title =  X_train[['title']]\n",
        "X_test_title =  X_test[['title']]\n",
        "\n",
        "#BOW model \n",
        "vect = CountVectorizer(stop_words='english', max_features=2500)\n",
        "X_train_3 = vect.fit_transform(X_train_2.description)\n"
      ],
      "execution_count": 12,
      "outputs": []
    },
    {
      "cell_type": "code",
      "metadata": {
        "colab": {
          "base_uri": "https://localhost:8080/"
        },
        "id": "C1BkYgYvleuv",
        "outputId": "d5b1cf9b-6e73-4ec5-d9e1-5d3806b8319d"
      },
      "source": [
        "simple_bow_score = np.mean(cross_val_score(make_pipeline(Ridge()), \n",
        "                              X_train_3, y_train, cv=5))\n",
        "\n",
        "\n",
        "print(\"Simple bag-of-words CV SCORE: \", \"{:.3f}\".format(simple_bow_score))"
      ],
      "execution_count": 13,
      "outputs": [
        {
          "output_type": "stream",
          "text": [
            "Simple bag-of-words CV SCORE:  0.659\n"
          ],
          "name": "stdout"
        }
      ]
    },
    {
      "cell_type": "markdown",
      "metadata": {
        "id": "XF9BzEbeleuw"
      },
      "source": [
        "#### 1.3 Try using n-grams, characters, tf-idf rescaling and possibly other ways to tune the BoW model. \n",
        "\n",
        "Note: Might need to adjust the (regularization of the) linear model for different feature sets."
      ]
    },
    {
      "cell_type": "markdown",
      "metadata": {
        "id": "dv8PTyDSleuw"
      },
      "source": [
        "##### n-grams"
      ]
    },
    {
      "cell_type": "code",
      "metadata": {
        "id": "1GuQi8qnleux"
      },
      "source": [
        "#NGRAM\n",
        "\n",
        "ngram_vect = CountVectorizer(ngram_range=(1,2),max_features=3500,stop_words='english')\n",
        "\n",
        "X_train_4 = ngram_vect.fit_transform(X_train_2.description)"
      ],
      "execution_count": 14,
      "outputs": []
    },
    {
      "cell_type": "code",
      "metadata": {
        "colab": {
          "base_uri": "https://localhost:8080/"
        },
        "id": "--XlWyjlleux",
        "outputId": "7e27df91-57d4-4d4d-86fe-8ebed2fe7e47"
      },
      "source": [
        "ngram_score = np.mean(cross_val_score(make_pipeline(Ridge()), \n",
        "                              X_train_4, y_train, cv=5))\n",
        "\n",
        "print(\"n-grams CV SCORE: \", \"{:.3f}\".format(ngram_score))"
      ],
      "execution_count": 15,
      "outputs": [
        {
          "output_type": "stream",
          "text": [
            "n-grams CV SCORE:  0.651\n"
          ],
          "name": "stdout"
        }
      ]
    },
    {
      "cell_type": "markdown",
      "metadata": {
        "id": "hHsb6QL2leux"
      },
      "source": [
        "##### tf-idf rescaling "
      ]
    },
    {
      "cell_type": "code",
      "metadata": {
        "colab": {
          "base_uri": "https://localhost:8080/"
        },
        "id": "iPagD5Otleux",
        "outputId": "51c5590f-b384-498c-a492-7f71bdd8eb24"
      },
      "source": [
        "#TF-IDF Rescaling\n",
        "from sklearn.feature_extraction.text import TfidfVectorizer\n",
        "\n",
        "tfidf_vect = TfidfVectorizer()\n",
        "\n",
        "X_train_5 = tfidf_vect.fit_transform(X_train_2.description)\n",
        "\n",
        "X_train_5\n",
        "#<38968x17339 sparse matrix of type '<class 'numpy.float64'>'\n",
        "#with 1349167 stored elements in Compressed Sparse Row format>\n"
      ],
      "execution_count": 16,
      "outputs": [
        {
          "output_type": "execute_result",
          "data": {
            "text/plain": [
              "<38968x17339 sparse matrix of type '<class 'numpy.float64'>'\n",
              "\twith 1349167 stored elements in Compressed Sparse Row format>"
            ]
          },
          "metadata": {
            "tags": []
          },
          "execution_count": 16
        }
      ]
    },
    {
      "cell_type": "code",
      "metadata": {
        "colab": {
          "base_uri": "https://localhost:8080/"
        },
        "id": "V1fRG31Aleux",
        "outputId": "ef1bdfd7-f08b-4ca4-9e4a-227d9e5bb23e"
      },
      "source": [
        "tfidf_score = np.mean(cross_val_score(make_pipeline(Ridge()), \n",
        "                              X_train_5, y_train, cv=5))\n",
        "\n",
        "print(\"tf-idf CV SCORE: \", \"{:.3f}\".format(tfidf_score))"
      ],
      "execution_count": 17,
      "outputs": [
        {
          "output_type": "stream",
          "text": [
            "tf-idf CV SCORE:  0.684\n"
          ],
          "name": "stdout"
        }
      ]
    },
    {
      "cell_type": "markdown",
      "metadata": {
        "id": "KO_bUitPleuy"
      },
      "source": [
        "#### 1.4 Combine the non-text features and the text features. "
      ]
    },
    {
      "cell_type": "code",
      "metadata": {
        "colab": {
          "base_uri": "https://localhost:8080/"
        },
        "id": "IbL3XON5leuy",
        "outputId": "1f38e054-12b8-4411-8475-118617c37c79"
      },
      "source": [
        "## X_train_text = X_train[['description', 'title']]\n",
        "\n",
        "target_encode = ['designation','winery']\n",
        "onehot_encode = ['variety','province', 'taster_name']\n",
        "cont_encode = ['price']\n",
        "\n",
        "cont_t = Pipeline(steps=[\n",
        "    ('imputer', SimpleImputer()),\n",
        "    ('scaler', StandardScaler())\n",
        "])\n",
        "\n",
        "target_t = Pipeline(steps=[\n",
        "    ('targetenc', TargetEncoder())\n",
        "])\n",
        "\n",
        "cat_t = Pipeline(steps=[\n",
        "    ('imputer', SimpleImputer(strategy='constant', fill_value='NA')),\n",
        "    ('onehot',  OneHotEncoder(handle_unknown='ignore'))\n",
        "])\n",
        "\n",
        "transformer = make_column_transformer(\n",
        "        (cont_t, cont_encode),\n",
        "        (cat_t, onehot_encode),\n",
        "        (target_t, target_encode),\n",
        "        remainder=\"passthrough\"\n",
        "    )\n",
        "\n",
        "X_train_scaled = transformer.fit_transform(X_train_1,y_train)\n",
        "\n",
        "#vect = CountVectorizer(stop_words='english', max_features=2000)\n",
        "vect = TfidfVectorizer(max_features=1500)\n",
        "#vect = CountVectorizer(ngram_range=(1,2),max_features=2000,stop_words='english')\n",
        "X_train_description =  vect.fit_transform(X_train_2.description)\n",
        "\n",
        "X_train_title_1 = vect.fit_transform(X_train_title.title)\n",
        "\n",
        "X_train_6 = scipy.sparse.hstack((X_train_scaled, X_train_description))#, X_train_title_1\n",
        "\n",
        "print(X_train_6.shape)"
      ],
      "execution_count": 18,
      "outputs": [
        {
          "output_type": "stream",
          "text": [
            "(38968, 1782)\n"
          ],
          "name": "stdout"
        }
      ]
    },
    {
      "cell_type": "code",
      "metadata": {
        "colab": {
          "base_uri": "https://localhost:8080/"
        },
        "id": "4ASo_suOleuy",
        "outputId": "c949679d-8bf0-4bec-bdae-3035e21e57d4"
      },
      "source": [
        "combine_score = np.mean(cross_val_score(Ridge(), \n",
        "                              X_train_6, y_train, cv=5))\n",
        "\n",
        "print(\"Combined CV SCORE: \", \"{:.3f}\".format(combine_score)) "
      ],
      "execution_count": 19,
      "outputs": [
        {
          "output_type": "stream",
          "text": [
            "Combined CV SCORE:  0.773\n"
          ],
          "name": "stdout"
        }
      ]
    },
    {
      "cell_type": "markdown",
      "metadata": {
        "id": "a0j9i9lmleuy"
      },
      "source": [
        "#### 1.5 Summary"
      ]
    },
    {
      "cell_type": "code",
      "metadata": {
        "colab": {
          "base_uri": "https://localhost:8080/"
        },
        "id": "wSuQ0Apileuz",
        "outputId": "1d370d4c-8f82-4228-d2c0-72bf77d12e07"
      },
      "source": [
        "print(\"BASELINE CV SCORE: \", \"{:.3f}\".format(baseline_score))\n",
        "print(\"Simple bag-of-words CV SCORE: \", \"{:.3f}\".format(simple_bow_score))\n",
        "print(\"n-grams CV SCORE: \", \"{:.3f}\".format(ngram_score))\n",
        "print(\"tf-idf CV SCORE: \", \"{:.3f}\".format(tfidf_score))\n",
        "print(\"Combined CV SCORE: \", \"{:.3f}\".format(combine_score)) "
      ],
      "execution_count": 20,
      "outputs": [
        {
          "output_type": "stream",
          "text": [
            "BASELINE CV SCORE:  0.441\n",
            "Simple bag-of-words CV SCORE:  0.659\n",
            "n-grams CV SCORE:  0.651\n",
            "tf-idf CV SCORE:  0.684\n",
            "Combined CV SCORE:  0.773\n"
          ],
          "name": "stdout"
        }
      ]
    },
    {
      "cell_type": "markdown",
      "metadata": {
        "id": "jAaKiKe9leuz"
      },
      "source": [
        "\n",
        "Based on the summary of scores above, the model that combined non-text features and text features (using tf-idf) outperformed the other models (Average R^2 score: 0.773). \n",
        "\n",
        "The baseline (using only non-text features) had the lowest R^2 score of 0.441. It can be concluded that adding text features provide additional information on the data, allowing for the linear model to perform better. \n"
      ]
    }
  ]
}