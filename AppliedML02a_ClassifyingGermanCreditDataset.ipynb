{
  "nbformat": 4,
  "nbformat_minor": 0,
  "metadata": {
    "kernelspec": {
      "display_name": "Python 3",
      "language": "python",
      "name": "python3"
    },
    "language_info": {
      "codemirror_mode": {
        "name": "ipython",
        "version": 3
      },
      "file_extension": ".py",
      "mimetype": "text/x-python",
      "name": "python",
      "nbconvert_exporter": "python",
      "pygments_lexer": "ipython3",
      "version": "3.7.3"
    },
    "colab": {
      "name": "AppliedML02a_ClassifyingGermanCreditDataset.ipynb",
      "provenance": []
    }
  },
  "cells": [
    {
      "cell_type": "markdown",
      "metadata": {
        "id": "Y4XnQUWIerLz"
      },
      "source": [
        "### Applied Machine Learning 2a\n",
        "\n",
        "##### Date: February 19 2020\n",
        "##### Author: Jung Ah Shin \n",
        "##### Data source: https://www.openml.org/d/31"
      ]
    },
    {
      "cell_type": "code",
      "metadata": {
        "id": "OWxZlLsSerL5"
      },
      "source": [
        "from sklearn.datasets import fetch_openml\n",
        "import pandas as pd \n",
        "import matplotlib.pyplot as plt\n",
        "import numpy as np\n",
        "import random\n",
        "\n",
        "import warnings\n",
        "warnings.filterwarnings('ignore')\n",
        "\n",
        "from sklearn.model_selection import train_test_split\n",
        "\n",
        "from sklearn.preprocessing import OneHotEncoder\n",
        "from sklearn.preprocessing import StandardScaler\n",
        "from sklearn.linear_model import LogisticRegression\n",
        "from sklearn.svm import LinearSVC\n",
        "from sklearn.neighbors import KNeighborsClassifier\n",
        "\n",
        "from sklearn.model_selection import cross_val_score, GridSearchCV\n",
        "from sklearn.model_selection import KFold, StratifiedKFold, ShuffleSplit\n",
        "\n",
        "from sklearn.compose import make_column_transformer\n",
        "from sklearn.pipeline import make_pipeline, Pipeline\n"
      ],
      "execution_count": null,
      "outputs": []
    },
    {
      "cell_type": "code",
      "metadata": {
        "id": "IDzDlbEmerL6"
      },
      "source": [
        "dat = fetch_openml('credit-g', as_frame=True)"
      ],
      "execution_count": null,
      "outputs": []
    },
    {
      "cell_type": "markdown",
      "metadata": {
        "id": "-zmjtmeMerL6"
      },
      "source": [
        "### 1.1 Determine which features are continuous and which are categorical.\n",
        "Categorical: checking_status, credit_history, purpose, savings_status, employment, personal_status, other_parties, property_magnitude, other_payment_plans, housing, job, own_telephone, foreign_worker\n",
        "\n",
        "Continuous: duration, credit_amount, installment_commitment, residence_since, age, existing_credits, num_dependents"
      ]
    },
    {
      "cell_type": "code",
      "metadata": {
        "id": "ZawvfbX6erL6",
        "outputId": "dd578e00-8513-469f-ff3c-76c2bc7f9e32"
      },
      "source": [
        "dat.data.dtypes"
      ],
      "execution_count": null,
      "outputs": [
        {
          "output_type": "execute_result",
          "data": {
            "text/plain": [
              "checking_status           category\n",
              "duration                   float64\n",
              "credit_history            category\n",
              "purpose                   category\n",
              "credit_amount              float64\n",
              "savings_status            category\n",
              "employment                category\n",
              "installment_commitment     float64\n",
              "personal_status           category\n",
              "other_parties             category\n",
              "residence_since            float64\n",
              "property_magnitude        category\n",
              "age                        float64\n",
              "other_payment_plans       category\n",
              "housing                   category\n",
              "existing_credits           float64\n",
              "job                       category\n",
              "num_dependents             float64\n",
              "own_telephone             category\n",
              "foreign_worker            category\n",
              "dtype: object"
            ]
          },
          "metadata": {
            "tags": []
          },
          "execution_count": 3
        }
      ]
    },
    {
      "cell_type": "markdown",
      "metadata": {
        "id": "NDMuCQqrerL8"
      },
      "source": [
        "### 1.2 Visualize the univariate distribution of each continuous feature, and the distribution of the target"
      ]
    },
    {
      "cell_type": "code",
      "metadata": {
        "id": "vCWSlw6HerL8",
        "outputId": "fe06f32f-db47-4a18-c5f3-1f01fb97057c"
      },
      "source": [
        "df = dat.data \n",
        "df.head()"
      ],
      "execution_count": null,
      "outputs": [
        {
          "output_type": "execute_result",
          "data": {
            "text/html": [
              "<div>\n",
              "<style scoped>\n",
              "    .dataframe tbody tr th:only-of-type {\n",
              "        vertical-align: middle;\n",
              "    }\n",
              "\n",
              "    .dataframe tbody tr th {\n",
              "        vertical-align: top;\n",
              "    }\n",
              "\n",
              "    .dataframe thead th {\n",
              "        text-align: right;\n",
              "    }\n",
              "</style>\n",
              "<table border=\"1\" class=\"dataframe\">\n",
              "  <thead>\n",
              "    <tr style=\"text-align: right;\">\n",
              "      <th></th>\n",
              "      <th>checking_status</th>\n",
              "      <th>duration</th>\n",
              "      <th>credit_history</th>\n",
              "      <th>purpose</th>\n",
              "      <th>credit_amount</th>\n",
              "      <th>savings_status</th>\n",
              "      <th>employment</th>\n",
              "      <th>installment_commitment</th>\n",
              "      <th>personal_status</th>\n",
              "      <th>other_parties</th>\n",
              "      <th>residence_since</th>\n",
              "      <th>property_magnitude</th>\n",
              "      <th>age</th>\n",
              "      <th>other_payment_plans</th>\n",
              "      <th>housing</th>\n",
              "      <th>existing_credits</th>\n",
              "      <th>job</th>\n",
              "      <th>num_dependents</th>\n",
              "      <th>own_telephone</th>\n",
              "      <th>foreign_worker</th>\n",
              "    </tr>\n",
              "  </thead>\n",
              "  <tbody>\n",
              "    <tr>\n",
              "      <th>0</th>\n",
              "      <td>&lt;0</td>\n",
              "      <td>6.0</td>\n",
              "      <td>critical/other existing credit</td>\n",
              "      <td>radio/tv</td>\n",
              "      <td>1169.0</td>\n",
              "      <td>no known savings</td>\n",
              "      <td>&gt;=7</td>\n",
              "      <td>4.0</td>\n",
              "      <td>male single</td>\n",
              "      <td>none</td>\n",
              "      <td>4.0</td>\n",
              "      <td>real estate</td>\n",
              "      <td>67.0</td>\n",
              "      <td>none</td>\n",
              "      <td>own</td>\n",
              "      <td>2.0</td>\n",
              "      <td>skilled</td>\n",
              "      <td>1.0</td>\n",
              "      <td>yes</td>\n",
              "      <td>yes</td>\n",
              "    </tr>\n",
              "    <tr>\n",
              "      <th>1</th>\n",
              "      <td>0&lt;=X&lt;200</td>\n",
              "      <td>48.0</td>\n",
              "      <td>existing paid</td>\n",
              "      <td>radio/tv</td>\n",
              "      <td>5951.0</td>\n",
              "      <td>&lt;100</td>\n",
              "      <td>1&lt;=X&lt;4</td>\n",
              "      <td>2.0</td>\n",
              "      <td>female div/dep/mar</td>\n",
              "      <td>none</td>\n",
              "      <td>2.0</td>\n",
              "      <td>real estate</td>\n",
              "      <td>22.0</td>\n",
              "      <td>none</td>\n",
              "      <td>own</td>\n",
              "      <td>1.0</td>\n",
              "      <td>skilled</td>\n",
              "      <td>1.0</td>\n",
              "      <td>none</td>\n",
              "      <td>yes</td>\n",
              "    </tr>\n",
              "    <tr>\n",
              "      <th>2</th>\n",
              "      <td>no checking</td>\n",
              "      <td>12.0</td>\n",
              "      <td>critical/other existing credit</td>\n",
              "      <td>education</td>\n",
              "      <td>2096.0</td>\n",
              "      <td>&lt;100</td>\n",
              "      <td>4&lt;=X&lt;7</td>\n",
              "      <td>2.0</td>\n",
              "      <td>male single</td>\n",
              "      <td>none</td>\n",
              "      <td>3.0</td>\n",
              "      <td>real estate</td>\n",
              "      <td>49.0</td>\n",
              "      <td>none</td>\n",
              "      <td>own</td>\n",
              "      <td>1.0</td>\n",
              "      <td>unskilled resident</td>\n",
              "      <td>2.0</td>\n",
              "      <td>none</td>\n",
              "      <td>yes</td>\n",
              "    </tr>\n",
              "    <tr>\n",
              "      <th>3</th>\n",
              "      <td>&lt;0</td>\n",
              "      <td>42.0</td>\n",
              "      <td>existing paid</td>\n",
              "      <td>furniture/equipment</td>\n",
              "      <td>7882.0</td>\n",
              "      <td>&lt;100</td>\n",
              "      <td>4&lt;=X&lt;7</td>\n",
              "      <td>2.0</td>\n",
              "      <td>male single</td>\n",
              "      <td>guarantor</td>\n",
              "      <td>4.0</td>\n",
              "      <td>life insurance</td>\n",
              "      <td>45.0</td>\n",
              "      <td>none</td>\n",
              "      <td>for free</td>\n",
              "      <td>1.0</td>\n",
              "      <td>skilled</td>\n",
              "      <td>2.0</td>\n",
              "      <td>none</td>\n",
              "      <td>yes</td>\n",
              "    </tr>\n",
              "    <tr>\n",
              "      <th>4</th>\n",
              "      <td>&lt;0</td>\n",
              "      <td>24.0</td>\n",
              "      <td>delayed previously</td>\n",
              "      <td>new car</td>\n",
              "      <td>4870.0</td>\n",
              "      <td>&lt;100</td>\n",
              "      <td>1&lt;=X&lt;4</td>\n",
              "      <td>3.0</td>\n",
              "      <td>male single</td>\n",
              "      <td>none</td>\n",
              "      <td>4.0</td>\n",
              "      <td>no known property</td>\n",
              "      <td>53.0</td>\n",
              "      <td>none</td>\n",
              "      <td>for free</td>\n",
              "      <td>2.0</td>\n",
              "      <td>skilled</td>\n",
              "      <td>2.0</td>\n",
              "      <td>none</td>\n",
              "      <td>yes</td>\n",
              "    </tr>\n",
              "  </tbody>\n",
              "</table>\n",
              "</div>"
            ],
            "text/plain": [
              "  checking_status  duration                  credit_history  \\\n",
              "0              <0       6.0  critical/other existing credit   \n",
              "1        0<=X<200      48.0                   existing paid   \n",
              "2     no checking      12.0  critical/other existing credit   \n",
              "3              <0      42.0                   existing paid   \n",
              "4              <0      24.0              delayed previously   \n",
              "\n",
              "               purpose  credit_amount    savings_status employment  \\\n",
              "0             radio/tv         1169.0  no known savings        >=7   \n",
              "1             radio/tv         5951.0              <100     1<=X<4   \n",
              "2            education         2096.0              <100     4<=X<7   \n",
              "3  furniture/equipment         7882.0              <100     4<=X<7   \n",
              "4              new car         4870.0              <100     1<=X<4   \n",
              "\n",
              "   installment_commitment     personal_status other_parties  residence_since  \\\n",
              "0                     4.0         male single          none              4.0   \n",
              "1                     2.0  female div/dep/mar          none              2.0   \n",
              "2                     2.0         male single          none              3.0   \n",
              "3                     2.0         male single     guarantor              4.0   \n",
              "4                     3.0         male single          none              4.0   \n",
              "\n",
              "  property_magnitude   age other_payment_plans   housing  existing_credits  \\\n",
              "0        real estate  67.0                none       own               2.0   \n",
              "1        real estate  22.0                none       own               1.0   \n",
              "2        real estate  49.0                none       own               1.0   \n",
              "3     life insurance  45.0                none  for free               1.0   \n",
              "4  no known property  53.0                none  for free               2.0   \n",
              "\n",
              "                  job  num_dependents own_telephone foreign_worker  \n",
              "0             skilled             1.0           yes            yes  \n",
              "1             skilled             1.0          none            yes  \n",
              "2  unskilled resident             2.0          none            yes  \n",
              "3             skilled             2.0          none            yes  \n",
              "4             skilled             2.0          none            yes  "
            ]
          },
          "metadata": {
            "tags": []
          },
          "execution_count": 4
        }
      ]
    },
    {
      "cell_type": "code",
      "metadata": {
        "id": "iY7lx_8berL8"
      },
      "source": [
        "df.columns = ['checking_status', 'duration', 'credit_history', 'purpose', \n",
        "             'credit_amount', 'savings_status', 'employment', 'installment_commitment',\n",
        "              'personal_status', 'other_parties', 'residence_since', 'property_magnitude',\n",
        "              'age', 'other_payment_plans', 'housing', 'existing_credits', 'job', \n",
        "              'num_dependents', 'own_telephone', 'foreign_worker']\n"
      ],
      "execution_count": null,
      "outputs": []
    },
    {
      "cell_type": "code",
      "metadata": {
        "id": "aSKZA7jUerL8",
        "outputId": "68c97db0-a6fd-4680-e725-2d7e8a233085"
      },
      "source": [
        "fig,ax = plt.subplots(2,4, figsize=(20,15)) \n",
        "ax[0,0].hist(df.duration)\n",
        "ax[0,1].hist(df.credit_amount)\n",
        "ax[0,2].hist(df.installment_commitment)\n",
        "ax[0,3].hist(df.residence_since)\n",
        "ax[1,0].hist(df.age)\n",
        "ax[1,1].hist(df.existing_credits)\n",
        "ax[1,2].hist(df.num_dependents)\n",
        "\n",
        "dat.target.value_counts().plot(ax=ax[1,3], kind='bar')\n",
        "\n",
        "for i in range(2):\n",
        "    for j in range(4):\n",
        "        ax[i,j].set_ylabel('frequency')\n",
        "        ax[i,j].set_xlabel('values')\n",
        "ax[0,0].title.set_text('Duration')\n",
        "ax[0,1].title.set_text('Credit Amount')\n",
        "ax[0,2].title.set_text('Installment Commitment')\n",
        "ax[0,3].title.set_text('Residence Since')\n",
        "ax[1,0].title.set_text('Age')\n",
        "ax[1,1].title.set_text('Existing Credits')\n",
        "ax[1,2].title.set_text('Number of Dependents')\n",
        "ax[1,3].title.set_text('Target Value')\n",
        "  "
      ],
      "execution_count": null,
      "outputs": [
        {
          "output_type": "display_data",
          "data": {
            "image/png": "[encoded data removed]",
            "text/plain": [
              "<Figure size 1440x1080 with 8 Axes>"
            ]
          },
          "metadata": {
            "tags": [],
            "needs_background": "light"
          }
        }
      ]
    },
    {
      "cell_type": "markdown",
      "metadata": {
        "id": "7gCd-GJterL9"
      },
      "source": [
        "### 1.3 Split data into training and test set. "
      ]
    },
    {
      "cell_type": "code",
      "metadata": {
        "id": "rT_qixATerL9",
        "outputId": "bd8218fd-d3cd-4758-fc8a-602f6b8b1b8c"
      },
      "source": [
        "X = df.iloc[:, 0:20]\n",
        "y = dat.target\n",
        "X_train, X_test, y_train, y_test = train_test_split(X,y, random_state=0)\n",
        "X_train.head()"
      ],
      "execution_count": null,
      "outputs": [
        {
          "output_type": "execute_result",
          "data": {
            "text/html": [
              "<div>\n",
              "<style scoped>\n",
              "    .dataframe tbody tr th:only-of-type {\n",
              "        vertical-align: middle;\n",
              "    }\n",
              "\n",
              "    .dataframe tbody tr th {\n",
              "        vertical-align: top;\n",
              "    }\n",
              "\n",
              "    .dataframe thead th {\n",
              "        text-align: right;\n",
              "    }\n",
              "</style>\n",
              "<table border=\"1\" class=\"dataframe\">\n",
              "  <thead>\n",
              "    <tr style=\"text-align: right;\">\n",
              "      <th></th>\n",
              "      <th>checking_status</th>\n",
              "      <th>duration</th>\n",
              "      <th>credit_history</th>\n",
              "      <th>purpose</th>\n",
              "      <th>credit_amount</th>\n",
              "      <th>savings_status</th>\n",
              "      <th>employment</th>\n",
              "      <th>installment_commitment</th>\n",
              "      <th>personal_status</th>\n",
              "      <th>other_parties</th>\n",
              "      <th>residence_since</th>\n",
              "      <th>property_magnitude</th>\n",
              "      <th>age</th>\n",
              "      <th>other_payment_plans</th>\n",
              "      <th>housing</th>\n",
              "      <th>existing_credits</th>\n",
              "      <th>job</th>\n",
              "      <th>num_dependents</th>\n",
              "      <th>own_telephone</th>\n",
              "      <th>foreign_worker</th>\n",
              "    </tr>\n",
              "  </thead>\n",
              "  <tbody>\n",
              "    <tr>\n",
              "      <th>253</th>\n",
              "      <td>no checking</td>\n",
              "      <td>24.0</td>\n",
              "      <td>delayed previously</td>\n",
              "      <td>furniture/equipment</td>\n",
              "      <td>4151.0</td>\n",
              "      <td>100&lt;=X&lt;500</td>\n",
              "      <td>1&lt;=X&lt;4</td>\n",
              "      <td>2.0</td>\n",
              "      <td>male single</td>\n",
              "      <td>none</td>\n",
              "      <td>3.0</td>\n",
              "      <td>life insurance</td>\n",
              "      <td>35.0</td>\n",
              "      <td>none</td>\n",
              "      <td>own</td>\n",
              "      <td>2.0</td>\n",
              "      <td>skilled</td>\n",
              "      <td>1.0</td>\n",
              "      <td>none</td>\n",
              "      <td>yes</td>\n",
              "    </tr>\n",
              "    <tr>\n",
              "      <th>667</th>\n",
              "      <td>no checking</td>\n",
              "      <td>48.0</td>\n",
              "      <td>all paid</td>\n",
              "      <td>business</td>\n",
              "      <td>3609.0</td>\n",
              "      <td>&lt;100</td>\n",
              "      <td>1&lt;=X&lt;4</td>\n",
              "      <td>1.0</td>\n",
              "      <td>female div/dep/mar</td>\n",
              "      <td>none</td>\n",
              "      <td>1.0</td>\n",
              "      <td>real estate</td>\n",
              "      <td>27.0</td>\n",
              "      <td>stores</td>\n",
              "      <td>own</td>\n",
              "      <td>1.0</td>\n",
              "      <td>skilled</td>\n",
              "      <td>1.0</td>\n",
              "      <td>none</td>\n",
              "      <td>yes</td>\n",
              "    </tr>\n",
              "    <tr>\n",
              "      <th>85</th>\n",
              "      <td>no checking</td>\n",
              "      <td>12.0</td>\n",
              "      <td>critical/other existing credit</td>\n",
              "      <td>business</td>\n",
              "      <td>1412.0</td>\n",
              "      <td>&lt;100</td>\n",
              "      <td>1&lt;=X&lt;4</td>\n",
              "      <td>4.0</td>\n",
              "      <td>female div/dep/mar</td>\n",
              "      <td>guarantor</td>\n",
              "      <td>2.0</td>\n",
              "      <td>real estate</td>\n",
              "      <td>29.0</td>\n",
              "      <td>none</td>\n",
              "      <td>own</td>\n",
              "      <td>2.0</td>\n",
              "      <td>high qualif/self emp/mgmt</td>\n",
              "      <td>1.0</td>\n",
              "      <td>yes</td>\n",
              "      <td>yes</td>\n",
              "    </tr>\n",
              "    <tr>\n",
              "      <th>969</th>\n",
              "      <td>&lt;0</td>\n",
              "      <td>11.0</td>\n",
              "      <td>critical/other existing credit</td>\n",
              "      <td>new car</td>\n",
              "      <td>3939.0</td>\n",
              "      <td>&lt;100</td>\n",
              "      <td>1&lt;=X&lt;4</td>\n",
              "      <td>1.0</td>\n",
              "      <td>male single</td>\n",
              "      <td>none</td>\n",
              "      <td>2.0</td>\n",
              "      <td>real estate</td>\n",
              "      <td>40.0</td>\n",
              "      <td>none</td>\n",
              "      <td>own</td>\n",
              "      <td>2.0</td>\n",
              "      <td>unskilled resident</td>\n",
              "      <td>2.0</td>\n",
              "      <td>none</td>\n",
              "      <td>yes</td>\n",
              "    </tr>\n",
              "    <tr>\n",
              "      <th>75</th>\n",
              "      <td>&lt;0</td>\n",
              "      <td>12.0</td>\n",
              "      <td>critical/other existing credit</td>\n",
              "      <td>used car</td>\n",
              "      <td>1526.0</td>\n",
              "      <td>&lt;100</td>\n",
              "      <td>&gt;=7</td>\n",
              "      <td>4.0</td>\n",
              "      <td>male single</td>\n",
              "      <td>none</td>\n",
              "      <td>4.0</td>\n",
              "      <td>no known property</td>\n",
              "      <td>66.0</td>\n",
              "      <td>none</td>\n",
              "      <td>for free</td>\n",
              "      <td>2.0</td>\n",
              "      <td>high qualif/self emp/mgmt</td>\n",
              "      <td>1.0</td>\n",
              "      <td>none</td>\n",
              "      <td>yes</td>\n",
              "    </tr>\n",
              "  </tbody>\n",
              "</table>\n",
              "</div>"
            ],
            "text/plain": [
              "    checking_status  duration                  credit_history  \\\n",
              "253     no checking      24.0              delayed previously   \n",
              "667     no checking      48.0                        all paid   \n",
              "85      no checking      12.0  critical/other existing credit   \n",
              "969              <0      11.0  critical/other existing credit   \n",
              "75               <0      12.0  critical/other existing credit   \n",
              "\n",
              "                 purpose  credit_amount savings_status employment  \\\n",
              "253  furniture/equipment         4151.0     100<=X<500     1<=X<4   \n",
              "667             business         3609.0           <100     1<=X<4   \n",
              "85              business         1412.0           <100     1<=X<4   \n",
              "969              new car         3939.0           <100     1<=X<4   \n",
              "75              used car         1526.0           <100        >=7   \n",
              "\n",
              "     installment_commitment     personal_status other_parties  \\\n",
              "253                     2.0         male single          none   \n",
              "667                     1.0  female div/dep/mar          none   \n",
              "85                      4.0  female div/dep/mar     guarantor   \n",
              "969                     1.0         male single          none   \n",
              "75                      4.0         male single          none   \n",
              "\n",
              "     residence_since property_magnitude   age other_payment_plans   housing  \\\n",
              "253              3.0     life insurance  35.0                none       own   \n",
              "667              1.0        real estate  27.0              stores       own   \n",
              "85               2.0        real estate  29.0                none       own   \n",
              "969              2.0        real estate  40.0                none       own   \n",
              "75               4.0  no known property  66.0                none  for free   \n",
              "\n",
              "     existing_credits                        job  num_dependents  \\\n",
              "253               2.0                    skilled             1.0   \n",
              "667               1.0                    skilled             1.0   \n",
              "85                2.0  high qualif/self emp/mgmt             1.0   \n",
              "969               2.0         unskilled resident             2.0   \n",
              "75                2.0  high qualif/self emp/mgmt             1.0   \n",
              "\n",
              "    own_telephone foreign_worker  \n",
              "253          none            yes  \n",
              "667          none            yes  \n",
              "85            yes            yes  \n",
              "969          none            yes  \n",
              "75           none            yes  "
            ]
          },
          "metadata": {
            "tags": []
          },
          "execution_count": 7
        }
      ]
    },
    {
      "cell_type": "code",
      "metadata": {
        "id": "x-xgwPNGerL-"
      },
      "source": [
        "categorical = X_train.dtypes == 'category'\n",
        "\n",
        "# Split continuous and categorical variables (for preprocessing)\n",
        "X_train_cont = X_train[X_train.columns[~categorical]]\n",
        "X_train_cat = X_train[X_train.columns[categorical]]"
      ],
      "execution_count": null,
      "outputs": []
    },
    {
      "cell_type": "code",
      "metadata": {
        "id": "Vd-HQkp5erL-"
      },
      "source": [
        "cat_dat = ['checking_status','credit_history', 'purpose', \n",
        "              'savings_status', 'employment','personal_status', \n",
        "               'other_parties', 'property_magnitude','other_payment_plans',\n",
        "               'housing', 'job','own_telephone', 'foreign_worker']\n",
        "\n",
        "#Scale categorical\n",
        "X_train_onehot = pd.get_dummies(X_train, columns=cat_dat)\n",
        "# ce = OneHotEncoder().fit(X_train_cat)\n",
        "# X_train_cat_scaled = ce.transform(X_train_cat).toarray()\n",
        "# EXTRA:'purpose_other', personal_status_female single'\n"
      ],
      "execution_count": null,
      "outputs": []
    },
    {
      "cell_type": "code",
      "metadata": {
        "id": "YzAS8NW6erL-",
        "outputId": "d1f6317e-6a16-40ac-e2e9-a73e87b9bfb2"
      },
      "source": [
        "#evaluate an initial LogisticRegression model with an training/validation split.\n",
        "\n",
        "logreg = LogisticRegression()\n",
        "scores = cross_val_score(logreg, X_train_onehot, y_train, cv=5)\n",
        "\n",
        "print(\"Initial LogisticRegression model: \",\"{0:.3f}\".format(np.mean(scores)))\n"
      ],
      "execution_count": null,
      "outputs": [
        {
          "output_type": "stream",
          "text": [
            "Initial LogisticRegression model:  0.755\n"
          ],
          "name": "stdout"
        }
      ]
    },
    {
      "cell_type": "markdown",
      "metadata": {
        "id": "L-TH5eAkerL-"
      },
      "source": [
        "### 1.4 Use ColumnTransformer and pipeline to encode categorical variables. \n",
        "\n",
        "Evaluate Logistic Regression, linear support vector machines and nearest neighbors using cross-validation. How different are the results? How does scaling the continuous features with StandardScaler influence the results?"
      ]
    },
    {
      "cell_type": "code",
      "metadata": {
        "id": "-9tVFBT2erL_",
        "outputId": "e56a94c3-21c2-4429-9063-cf9db85f8df3"
      },
      "source": [
        "#With Standard Scaler\n",
        "preprocess = make_column_transformer(\n",
        "(StandardScaler(), ~categorical),\n",
        "(OneHotEncoder(), categorical))\n",
        "\n",
        "#Logistic Regression\n",
        "logreg_model = make_pipeline(preprocess, LogisticRegression())\n",
        "log_reg_scores = cross_val_score(logreg_model, X_train, y_train)\n",
        "\n",
        "#Linear Support Vector Machines\n",
        "svm_model = make_pipeline(preprocess, LinearSVC())\n",
        "svm_scores = cross_val_score(svm_model, X_train, y_train)\n",
        "\n",
        "#Nearest Neighbors\n",
        "knn_model = make_pipeline(preprocess, KNeighborsClassifier())\n",
        "knn_scores = cross_val_score(knn_model, X_train, y_train)\n",
        "\n",
        "print(\" Logistic Regression: \", \"{0:.3f}\".format(np.mean(log_reg_scores)), \"\\n\", \n",
        "      \"Linear Support Vector Machines: \", \"{0:.3f}\".format(np.mean(svm_scores)), \"\\n\"\n",
        "     ,\"Nearest Neighbors: \", \"{0:.3f}\".format(np.mean(knn_scores)))\n"
      ],
      "execution_count": null,
      "outputs": [
        {
          "output_type": "stream",
          "text": [
            " Logistic Regression:  0.759 \n",
            " Linear Support Vector Machines:  0.755 \n",
            " Nearest Neighbors:  0.724\n"
          ],
          "name": "stdout"
        }
      ]
    },
    {
      "cell_type": "markdown",
      "metadata": {
        "id": "ImW_-_2terL_"
      },
      "source": [
        "After using ColumnTransformer and pipeline, the results for all three models are similar to one another. Logistic regression has a mean cross validation score of 0.759, which is the highest among the three models, and Nearest Neighbors has a mean cross validation of 0.724, which is the lowest."
      ]
    },
    {
      "cell_type": "code",
      "metadata": {
        "id": "x1fhIYIterL_",
        "outputId": "1de042cc-4405-4847-892f-09e0be6fff04"
      },
      "source": [
        "#Without Standard Scaler\n",
        "preprocess1 = make_column_transformer(\n",
        "(OneHotEncoder(), categorical))\n",
        "\n",
        "#Logistic Regression\n",
        "logreg_model = make_pipeline(preprocess1, LogisticRegression())\n",
        "log_reg_scores = cross_val_score(logreg_model, X_train, y_train)\n",
        "\n",
        "#Linear Support Vector Machines\n",
        "svm_model = make_pipeline(preprocess1, LinearSVC())\n",
        "svm_scores = cross_val_score(svm_model, X_train, y_train)\n",
        "\n",
        "#Nearest Neighbors\n",
        "knn_model = make_pipeline(preprocess1, KNeighborsClassifier())\n",
        "knn_scores = cross_val_score(knn_model, X_train, y_train)\n",
        "\n",
        "print(\" Logistic Regression without StandardScaler: \", \"{0:.3f}\".format(np.mean(log_reg_scores)), \"\\n\", \n",
        "      \"Linear Support Vector Machines without StandardScaler: \", \"{0:.3f}\".format(np.mean(svm_scores)), \"\\n\"\n",
        "     ,\"Nearest Neighbors without StandardScaler: \", \"{0:.3f}\".format(np.mean(knn_scores)))"
      ],
      "execution_count": null,
      "outputs": [
        {
          "output_type": "stream",
          "text": [
            " Logistic Regression without StandardScaler:  0.749 \n",
            " Linear Support Vector Machines without StandardScaler:  0.753 \n",
            " Nearest Neighbors without StandardScaler:  0.736\n"
          ],
          "name": "stdout"
        }
      ]
    },
    {
      "cell_type": "markdown",
      "metadata": {
        "id": "hngPu6K2erMA"
      },
      "source": [
        "The results above does not include the scaling of the continuous features using StandardScaler. Interestingly, not scaling the continuous features do not have a significant impact on the scores. Compared to the scaled version, Logistic Regression had a lower score, and nearest neighbors improved without scaling. Linear SVM stayed almost the same. "
      ]
    },
    {
      "cell_type": "markdown",
      "metadata": {
        "id": "XaAMe-p2erMA"
      },
      "source": [
        "### 1.5 Tune the parameters using GridSearchCV. Do the results improve? "
      ]
    },
    {
      "cell_type": "code",
      "metadata": {
        "id": "lxWkUbederMB",
        "outputId": "608e13bd-e711-4103-c269-732cc7ac054c"
      },
      "source": [
        "pipe = Pipeline([('scaler', preprocess),\n",
        "                ('regressor',LogisticRegression())]) #placeholder\n",
        "\n",
        "param_grid = [{'regressor': [LogisticRegression()],\n",
        "              'regressor__C': [0.001, 0.01, 0.1, 1, 10]},\n",
        "             {'regressor': [LinearSVC()],\n",
        "             'regressor__C': [0.001, 0.01, 0.1, 1, 10]},\n",
        "              {'regressor': [KNeighborsClassifier()],\n",
        "             'regressor__n_neighbors': [2,4,6,8,10]}]\n",
        "\n",
        "grid = GridSearchCV(pipe, param_grid = param_grid, return_train_score=True)\n",
        "grid.fit(X_train, y_train)\n",
        "grid.score(X_test, y_test)\n",
        "\n",
        "print(grid.best_params_)\n",
        "results = grid.cv_results_\n",
        "\n",
        "# #Logistic Regression\n",
        "# logreg_grid = GridSearchCV(LogisticRegression(), param_grid=param_grid, cv=5, \n",
        "#                    return_train_score=True)\n",
        "\n",
        "# #Linear Support Vector Machines\n",
        "# svm_grid = GridSearchCV(LinearSVC(), param_grid=param_grid, cv=5, \n",
        "#                    return_train_score=True)\n",
        "# #Nearest Neighbors\n",
        "# knn_grid = GridSearchCV(KNeighborsClassifier(), param_grid=param_grid, cv=5, \n",
        "#                    return_train_score=True)\n"
      ],
      "execution_count": null,
      "outputs": [
        {
          "output_type": "stream",
          "text": [
            "{'regressor': LinearSVC(C=0.1, class_weight=None, dual=True, fit_intercept=True,\n",
            "          intercept_scaling=1, loss='squared_hinge', max_iter=1000,\n",
            "          multi_class='ovr', penalty='l2', random_state=None, tol=0.0001,\n",
            "          verbose=0), 'regressor__C': 0.1}\n"
          ],
          "name": "stdout"
        }
      ]
    },
    {
      "cell_type": "code",
      "metadata": {
        "id": "6jHezkG8erMB",
        "outputId": "97b48b80-4963-4f93-f2d2-e3f5197d291a"
      },
      "source": [
        "results_df = pd.DataFrame.from_dict(results)\n",
        "\n",
        "# param values and mean_test_score\n",
        "fig1, ax1 = plt.subplots(1,3, figsize=(16,7))\n",
        "ax1[0].plot(results_df.param_regressor__C[0:5], results_df.mean_test_score[0:5])\n",
        "ax1[1].plot(results_df.param_regressor__C[5:10], results_df.mean_test_score[5:10])\n",
        "ax1[2].plot(results_df.param_regressor__n_neighbors[10:], results_df.mean_test_score[10:]);\n",
        "\n",
        "for i in range(3):\n",
        "    ax1[i].set_xlabel('parameter')\n",
        "    ax1[i].set_ylabel('mean test score')\n",
        "    if i == 0:\n",
        "        ax1[i].title.set_text('Logistic Regression')\n",
        "    elif i== 1:\n",
        "        ax1[i].title.set_text('Linear Support Vector Machine')\n",
        "    else:\n",
        "        ax1[i].title.set_text('Nearest Neighbors')\n"
      ],
      "execution_count": null,
      "outputs": [
        {
          "output_type": "display_data",
          "data": {
            "image/png": "[encoded data removed]",
            "text/plain": [
              "<Figure size 1152x504 with 3 Axes>"
            ]
          },
          "metadata": {
            "tags": [],
            "needs_background": "light"
          }
        }
      ]
    },
    {
      "cell_type": "markdown",
      "metadata": {
        "id": "Nt1RiiZCerMB"
      },
      "source": [
        "For logistic regression, Linear SVM and Nearest Neighbors, the values seem to improve for larger parameters. However, the values seem to stay relatively the same compared to the previous methods."
      ]
    },
    {
      "cell_type": "markdown",
      "metadata": {
        "id": "uMfBP4h7erMC"
      },
      "source": [
        "### 1.6 Change the cross-validation strategy from ‘stratified k-fold’ to ‘kfold’ with shuffling. Do the parameters that are found change? Do they change if you change the random seed of the shuffling? Or if you change the random state of the split into training and test data?"
      ]
    },
    {
      "cell_type": "code",
      "metadata": {
        "id": "MoqT7l_IerMC",
        "outputId": "2c479cac-b6a8-4d74-b36a-7f36cf1b8a1c"
      },
      "source": [
        "# Change to 'kfold' with shuffling\n",
        "kfold = KFold(n_splits=5, shuffle=True)\n",
        "\n",
        "grid2 = GridSearchCV(pipe, param_grid = param_grid, return_train_score=True, cv=kfold)\n",
        "grid2.fit(X_train, y_train)\n",
        "grid2.score(X_test, y_test)\n",
        "\n",
        "#print(grid2.best_params_)\n",
        "results2 = grid2.cv_results_\n",
        "\n",
        "# Change the random seed of the shuffling\n",
        "kfold_randomseed = KFold(n_splits=5, shuffle=True, random_state = random.seed(42))\n",
        "grid3 = GridSearchCV(pipe, param_grid = param_grid, return_train_score=True, cv=kfold_randomseed)\n",
        "grid3.fit(X_train, y_train)\n",
        "grid3.score(X_test, y_test)\n",
        "\n",
        "#print(grid3.best_params_)\n",
        "results3 = grid3.cv_results_\n",
        "\n",
        "# Change the random state of the split into training and test\n",
        "\n",
        "X_train_random, X_test_random, y_train_random, y_test_random = train_test_split(X,y, random_state=2)\n",
        "kfold_randomsplit = KFold(n_splits=5, shuffle=False, random_state = None)\n",
        "\n",
        "grid4 = GridSearchCV(pipe, param_grid = param_grid, return_train_score=True, cv=kfold_randomsplit)\n",
        "grid4.fit(X_train_random, y_train_random)\n",
        "grid4.score(X_test_random, y_test_random)\n",
        "\n",
        "#print(grid4.best_params_)\n",
        "results4 = grid4.cv_results_\n",
        "\n",
        "print(np.mean(grid2.score(X_test, y_test)), np.mean(grid3.score(X_test, y_test)), np.mean(grid4.score(X_test_random, y_test_random)))\n",
        "\n"
      ],
      "execution_count": null,
      "outputs": [
        {
          "output_type": "stream",
          "text": [
            "0.728 0.768 0.724\n"
          ],
          "name": "stdout"
        }
      ]
    },
    {
      "cell_type": "markdown",
      "metadata": {
        "id": "hEBRjzEkerMD"
      },
      "source": [
        "Based on the results, the kfold shuffling with a different random seed has the highest mean test score, and changing the random state of the split into training and test had the lowest mean test score. However, these values are very similar to one another. Parameters also do not seem to change significantly."
      ]
    },
    {
      "cell_type": "markdown",
      "metadata": {
        "id": "NvAzK_MWerMD"
      },
      "source": [
        "### 1.7 Visualize the 20 most important coefficients for LogisticRegression and Linear Support Vector Machines using hyper-parameters that performed well in the grid-search."
      ]
    },
    {
      "cell_type": "code",
      "metadata": {
        "id": "kyac8lUNerMD",
        "outputId": "d2d397e7-d88b-43a3-8bf9-8cae21ba8620"
      },
      "source": [
        "pipelog = Pipeline([(\"Preprocessor\", preprocess),\n",
        "                   (\"scaler\", LogisticRegression(C=grid2.best_params_['regressor__C']))])\n",
        "pipelog_model = pipelog.fit(X_train, y_train)\n",
        "pipelog_coef = pipelog_model[-1].coef_[0] #last model, and take coefficient\n",
        "best_pipelog_coef = np.argpartition(abs(pipelog_coef), -20)[-20:]\n",
        "print(best_pipelog_coef)\n",
        "\n",
        "\n",
        "pipesvm = Pipeline([(\"Preprocessor\", preprocess),\n",
        "                   (\"scaler\", LinearSVC(C=grid2.best_params_['regressor__C']))])\n",
        "pipesvm_model = pipesvm.fit(X_train, y_train)\n",
        "pipesvm_coef = pipesvm_model[-1].coef_[0] #last model, and take coefficient\n",
        "best_pipesvm_coef = np.argpartition(abs(pipesvm_coef), -20)[-20:]\n",
        "print(best_pipesvm_coef)\n"
      ],
      "execution_count": null,
      "outputs": [
        {
          "output_type": "stream",
          "text": [
            "[52 50 18 33 60 46 45 41 40 25 24 23 20 15 12 11 10  8 59 30]\n",
            "[13 30 24 23 25 46 21 20 40 50 17 15 41 12 55 11 10  8 59 18]\n"
          ],
          "name": "stdout"
        }
      ]
    },
    {
      "cell_type": "code",
      "metadata": {
        "id": "aK84geZFerMD",
        "outputId": "0436204a-3d36-4692-92d6-d8bf13ddcdcf"
      },
      "source": [
        "columns_continuous = X_train[X_train.columns[~categorical]].columns\n",
        "columns_categorical = pipelog.named_steps['Preprocessor'].transformers_[1][1].get_feature_names()\n",
        "all_columns = np.array(list(columns_continuous) + list(columns_categorical))\n",
        "\n",
        "ax = plt.barh(all_columns[best_pipelog_coef], pipelog_coef[best_pipelog_coef])\n",
        "plt.title('Logistic Regression: 20 Most Important Coefficients')\n",
        "plt.ylabel('Columns')\n",
        "plt.xlabel('Coefficients');\n"
      ],
      "execution_count": null,
      "outputs": [
        {
          "output_type": "display_data",
          "data": {
            "image/png": "[encoded data removed]",
            "text/plain": [
              "<Figure size 432x288 with 1 Axes>"
            ]
          },
          "metadata": {
            "tags": [],
            "needs_background": "light"
          }
        }
      ]
    },
    {
      "cell_type": "code",
      "metadata": {
        "id": "sqLV9SCLerME",
        "outputId": "44fc7124-3565-4f3e-eaef-362c1cb8bc7c"
      },
      "source": [
        "ax = plt.barh(all_columns[best_pipesvm_coef], pipesvm_coef[best_pipesvm_coef])\n",
        "plt.title('SVM: 20 Most Important Coefficients')\n",
        "plt.ylabel('Columns')\n",
        "plt.xlabel('Coefficients');\n"
      ],
      "execution_count": null,
      "outputs": [
        {
          "output_type": "display_data",
          "data": {
            "image/png": "[encoded data removed]",
            "text/plain": [
              "<Figure size 432x288 with 1 Axes>"
            ]
          },
          "metadata": {
            "tags": [],
            "needs_background": "light"
          }
        }
      ]
    }
  ]
}